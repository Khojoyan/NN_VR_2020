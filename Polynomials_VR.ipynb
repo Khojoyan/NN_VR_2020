{
  "nbformat": 4,
  "nbformat_minor": 0,
  "metadata": {
    "kernelspec": {
      "display_name": "Python 3",
      "language": "python",
      "name": "python3"
    },
    "language_info": {
      "codemirror_mode": {
        "name": "ipython",
        "version": 2
      },
      "file_extension": ".py",
      "mimetype": "text/x-python",
      "name": "python",
      "nbconvert_exporter": "python",
      "pygments_lexer": "ipython2",
      "version": "2.7.16"
    },
    "colab": {
      "name": "Polynomials_VR.ipynb",
      "provenance": [],
      "collapsed_sections": []
    },
    "widgets": {
      "application/vnd.jupyter.widget-state+json": {
        "08a29c0e5f47453092e6175f5d3bb77e": {
          "model_module": "@jupyter-widgets/controls",
          "model_name": "HBoxModel",
          "state": {
            "_view_name": "HBoxView",
            "_dom_classes": [],
            "_model_name": "HBoxModel",
            "_view_module": "@jupyter-widgets/controls",
            "_model_module_version": "1.5.0",
            "_view_count": null,
            "_view_module_version": "1.5.0",
            "box_style": "",
            "layout": "IPY_MODEL_609b47e546644b5abd352c7005150936",
            "_model_module": "@jupyter-widgets/controls",
            "children": [
              "IPY_MODEL_522aaeb6db0a4304b485c8ed48ed69d6",
              "IPY_MODEL_64a7c4b13dc44d4b8393752f837d52f2"
            ]
          }
        },
        "609b47e546644b5abd352c7005150936": {
          "model_module": "@jupyter-widgets/base",
          "model_name": "LayoutModel",
          "state": {
            "_view_name": "LayoutView",
            "grid_template_rows": null,
            "right": null,
            "justify_content": null,
            "_view_module": "@jupyter-widgets/base",
            "overflow": null,
            "_model_module_version": "1.2.0",
            "_view_count": null,
            "flex_flow": null,
            "width": null,
            "min_width": null,
            "border": null,
            "align_items": null,
            "bottom": null,
            "_model_module": "@jupyter-widgets/base",
            "top": null,
            "grid_column": null,
            "overflow_y": null,
            "overflow_x": null,
            "grid_auto_flow": null,
            "grid_area": null,
            "grid_template_columns": null,
            "flex": null,
            "_model_name": "LayoutModel",
            "justify_items": null,
            "grid_row": null,
            "max_height": null,
            "align_content": null,
            "visibility": null,
            "align_self": null,
            "height": null,
            "min_height": null,
            "padding": null,
            "grid_auto_rows": null,
            "grid_gap": null,
            "max_width": null,
            "order": null,
            "_view_module_version": "1.2.0",
            "grid_template_areas": null,
            "object_position": null,
            "object_fit": null,
            "grid_auto_columns": null,
            "margin": null,
            "display": null,
            "left": null
          }
        },
        "522aaeb6db0a4304b485c8ed48ed69d6": {
          "model_module": "@jupyter-widgets/controls",
          "model_name": "FloatProgressModel",
          "state": {
            "_view_name": "ProgressView",
            "style": "IPY_MODEL_bb90d5660b244a49b63654afd6afa78d",
            "_dom_classes": [],
            "description": "100%",
            "_model_name": "FloatProgressModel",
            "bar_style": "success",
            "max": 100,
            "_view_module": "@jupyter-widgets/controls",
            "_model_module_version": "1.5.0",
            "value": 100,
            "_view_count": null,
            "_view_module_version": "1.5.0",
            "orientation": "horizontal",
            "min": 0,
            "description_tooltip": null,
            "_model_module": "@jupyter-widgets/controls",
            "layout": "IPY_MODEL_d49243e2818944b5971688b3ba97ff03"
          }
        },
        "64a7c4b13dc44d4b8393752f837d52f2": {
          "model_module": "@jupyter-widgets/controls",
          "model_name": "HTMLModel",
          "state": {
            "_view_name": "HTMLView",
            "style": "IPY_MODEL_a3db1fdc48314804b74dde5c30e1adf5",
            "_dom_classes": [],
            "description": "",
            "_model_name": "HTMLModel",
            "placeholder": "​",
            "_view_module": "@jupyter-widgets/controls",
            "_model_module_version": "1.5.0",
            "value": " 100/100 [00:14&lt;00:00,  7.01it/s]",
            "_view_count": null,
            "_view_module_version": "1.5.0",
            "description_tooltip": null,
            "_model_module": "@jupyter-widgets/controls",
            "layout": "IPY_MODEL_c8fe9403072d4650b9bda70bedc330b4"
          }
        },
        "bb90d5660b244a49b63654afd6afa78d": {
          "model_module": "@jupyter-widgets/controls",
          "model_name": "ProgressStyleModel",
          "state": {
            "_view_name": "StyleView",
            "_model_name": "ProgressStyleModel",
            "description_width": "initial",
            "_view_module": "@jupyter-widgets/base",
            "_model_module_version": "1.5.0",
            "_view_count": null,
            "_view_module_version": "1.2.0",
            "bar_color": null,
            "_model_module": "@jupyter-widgets/controls"
          }
        },
        "d49243e2818944b5971688b3ba97ff03": {
          "model_module": "@jupyter-widgets/base",
          "model_name": "LayoutModel",
          "state": {
            "_view_name": "LayoutView",
            "grid_template_rows": null,
            "right": null,
            "justify_content": null,
            "_view_module": "@jupyter-widgets/base",
            "overflow": null,
            "_model_module_version": "1.2.0",
            "_view_count": null,
            "flex_flow": null,
            "width": null,
            "min_width": null,
            "border": null,
            "align_items": null,
            "bottom": null,
            "_model_module": "@jupyter-widgets/base",
            "top": null,
            "grid_column": null,
            "overflow_y": null,
            "overflow_x": null,
            "grid_auto_flow": null,
            "grid_area": null,
            "grid_template_columns": null,
            "flex": null,
            "_model_name": "LayoutModel",
            "justify_items": null,
            "grid_row": null,
            "max_height": null,
            "align_content": null,
            "visibility": null,
            "align_self": null,
            "height": null,
            "min_height": null,
            "padding": null,
            "grid_auto_rows": null,
            "grid_gap": null,
            "max_width": null,
            "order": null,
            "_view_module_version": "1.2.0",
            "grid_template_areas": null,
            "object_position": null,
            "object_fit": null,
            "grid_auto_columns": null,
            "margin": null,
            "display": null,
            "left": null
          }
        },
        "a3db1fdc48314804b74dde5c30e1adf5": {
          "model_module": "@jupyter-widgets/controls",
          "model_name": "DescriptionStyleModel",
          "state": {
            "_view_name": "StyleView",
            "_model_name": "DescriptionStyleModel",
            "description_width": "",
            "_view_module": "@jupyter-widgets/base",
            "_model_module_version": "1.5.0",
            "_view_count": null,
            "_view_module_version": "1.2.0",
            "_model_module": "@jupyter-widgets/controls"
          }
        },
        "c8fe9403072d4650b9bda70bedc330b4": {
          "model_module": "@jupyter-widgets/base",
          "model_name": "LayoutModel",
          "state": {
            "_view_name": "LayoutView",
            "grid_template_rows": null,
            "right": null,
            "justify_content": null,
            "_view_module": "@jupyter-widgets/base",
            "overflow": null,
            "_model_module_version": "1.2.0",
            "_view_count": null,
            "flex_flow": null,
            "width": null,
            "min_width": null,
            "border": null,
            "align_items": null,
            "bottom": null,
            "_model_module": "@jupyter-widgets/base",
            "top": null,
            "grid_column": null,
            "overflow_y": null,
            "overflow_x": null,
            "grid_auto_flow": null,
            "grid_area": null,
            "grid_template_columns": null,
            "flex": null,
            "_model_name": "LayoutModel",
            "justify_items": null,
            "grid_row": null,
            "max_height": null,
            "align_content": null,
            "visibility": null,
            "align_self": null,
            "height": null,
            "min_height": null,
            "padding": null,
            "grid_auto_rows": null,
            "grid_gap": null,
            "max_width": null,
            "order": null,
            "_view_module_version": "1.2.0",
            "grid_template_areas": null,
            "object_position": null,
            "object_fit": null,
            "grid_auto_columns": null,
            "margin": null,
            "display": null,
            "left": null
          }
        },
        "5e574ee576364e0f930e7daaeaeabb56": {
          "model_module": "@jupyter-widgets/controls",
          "model_name": "HBoxModel",
          "state": {
            "_view_name": "HBoxView",
            "_dom_classes": [],
            "_model_name": "HBoxModel",
            "_view_module": "@jupyter-widgets/controls",
            "_model_module_version": "1.5.0",
            "_view_count": null,
            "_view_module_version": "1.5.0",
            "box_style": "",
            "layout": "IPY_MODEL_d058f9e753b343cd8b8e83cb996dad44",
            "_model_module": "@jupyter-widgets/controls",
            "children": [
              "IPY_MODEL_13e51b96a701488992ae904af86a092a",
              "IPY_MODEL_2434953d834d41efb9878a5ba3608e39"
            ]
          }
        },
        "d058f9e753b343cd8b8e83cb996dad44": {
          "model_module": "@jupyter-widgets/base",
          "model_name": "LayoutModel",
          "state": {
            "_view_name": "LayoutView",
            "grid_template_rows": null,
            "right": null,
            "justify_content": null,
            "_view_module": "@jupyter-widgets/base",
            "overflow": null,
            "_model_module_version": "1.2.0",
            "_view_count": null,
            "flex_flow": null,
            "width": null,
            "min_width": null,
            "border": null,
            "align_items": null,
            "bottom": null,
            "_model_module": "@jupyter-widgets/base",
            "top": null,
            "grid_column": null,
            "overflow_y": null,
            "overflow_x": null,
            "grid_auto_flow": null,
            "grid_area": null,
            "grid_template_columns": null,
            "flex": null,
            "_model_name": "LayoutModel",
            "justify_items": null,
            "grid_row": null,
            "max_height": null,
            "align_content": null,
            "visibility": null,
            "align_self": null,
            "height": null,
            "min_height": null,
            "padding": null,
            "grid_auto_rows": null,
            "grid_gap": null,
            "max_width": null,
            "order": null,
            "_view_module_version": "1.2.0",
            "grid_template_areas": null,
            "object_position": null,
            "object_fit": null,
            "grid_auto_columns": null,
            "margin": null,
            "display": null,
            "left": null
          }
        },
        "13e51b96a701488992ae904af86a092a": {
          "model_module": "@jupyter-widgets/controls",
          "model_name": "FloatProgressModel",
          "state": {
            "_view_name": "ProgressView",
            "style": "IPY_MODEL_d32edd0eeafa45fca101b4b1f540d7ed",
            "_dom_classes": [],
            "description": "100%",
            "_model_name": "FloatProgressModel",
            "bar_style": "success",
            "max": 100,
            "_view_module": "@jupyter-widgets/controls",
            "_model_module_version": "1.5.0",
            "value": 100,
            "_view_count": null,
            "_view_module_version": "1.5.0",
            "orientation": "horizontal",
            "min": 0,
            "description_tooltip": null,
            "_model_module": "@jupyter-widgets/controls",
            "layout": "IPY_MODEL_23bcd669c4f94672802a5c6afe23d2a3"
          }
        },
        "2434953d834d41efb9878a5ba3608e39": {
          "model_module": "@jupyter-widgets/controls",
          "model_name": "HTMLModel",
          "state": {
            "_view_name": "HTMLView",
            "style": "IPY_MODEL_3d3f26ab3f1543e3b57cf02d5b4dfaec",
            "_dom_classes": [],
            "description": "",
            "_model_name": "HTMLModel",
            "placeholder": "​",
            "_view_module": "@jupyter-widgets/controls",
            "_model_module_version": "1.5.0",
            "value": " 100/100 [00:07&lt;00:00, 14.06it/s]",
            "_view_count": null,
            "_view_module_version": "1.5.0",
            "description_tooltip": null,
            "_model_module": "@jupyter-widgets/controls",
            "layout": "IPY_MODEL_c95a9f1e0c494c1b9e9af918c9f09fb4"
          }
        },
        "d32edd0eeafa45fca101b4b1f540d7ed": {
          "model_module": "@jupyter-widgets/controls",
          "model_name": "ProgressStyleModel",
          "state": {
            "_view_name": "StyleView",
            "_model_name": "ProgressStyleModel",
            "description_width": "initial",
            "_view_module": "@jupyter-widgets/base",
            "_model_module_version": "1.5.0",
            "_view_count": null,
            "_view_module_version": "1.2.0",
            "bar_color": null,
            "_model_module": "@jupyter-widgets/controls"
          }
        },
        "23bcd669c4f94672802a5c6afe23d2a3": {
          "model_module": "@jupyter-widgets/base",
          "model_name": "LayoutModel",
          "state": {
            "_view_name": "LayoutView",
            "grid_template_rows": null,
            "right": null,
            "justify_content": null,
            "_view_module": "@jupyter-widgets/base",
            "overflow": null,
            "_model_module_version": "1.2.0",
            "_view_count": null,
            "flex_flow": null,
            "width": null,
            "min_width": null,
            "border": null,
            "align_items": null,
            "bottom": null,
            "_model_module": "@jupyter-widgets/base",
            "top": null,
            "grid_column": null,
            "overflow_y": null,
            "overflow_x": null,
            "grid_auto_flow": null,
            "grid_area": null,
            "grid_template_columns": null,
            "flex": null,
            "_model_name": "LayoutModel",
            "justify_items": null,
            "grid_row": null,
            "max_height": null,
            "align_content": null,
            "visibility": null,
            "align_self": null,
            "height": null,
            "min_height": null,
            "padding": null,
            "grid_auto_rows": null,
            "grid_gap": null,
            "max_width": null,
            "order": null,
            "_view_module_version": "1.2.0",
            "grid_template_areas": null,
            "object_position": null,
            "object_fit": null,
            "grid_auto_columns": null,
            "margin": null,
            "display": null,
            "left": null
          }
        },
        "3d3f26ab3f1543e3b57cf02d5b4dfaec": {
          "model_module": "@jupyter-widgets/controls",
          "model_name": "DescriptionStyleModel",
          "state": {
            "_view_name": "StyleView",
            "_model_name": "DescriptionStyleModel",
            "description_width": "",
            "_view_module": "@jupyter-widgets/base",
            "_model_module_version": "1.5.0",
            "_view_count": null,
            "_view_module_version": "1.2.0",
            "_model_module": "@jupyter-widgets/controls"
          }
        },
        "c95a9f1e0c494c1b9e9af918c9f09fb4": {
          "model_module": "@jupyter-widgets/base",
          "model_name": "LayoutModel",
          "state": {
            "_view_name": "LayoutView",
            "grid_template_rows": null,
            "right": null,
            "justify_content": null,
            "_view_module": "@jupyter-widgets/base",
            "overflow": null,
            "_model_module_version": "1.2.0",
            "_view_count": null,
            "flex_flow": null,
            "width": null,
            "min_width": null,
            "border": null,
            "align_items": null,
            "bottom": null,
            "_model_module": "@jupyter-widgets/base",
            "top": null,
            "grid_column": null,
            "overflow_y": null,
            "overflow_x": null,
            "grid_auto_flow": null,
            "grid_area": null,
            "grid_template_columns": null,
            "flex": null,
            "_model_name": "LayoutModel",
            "justify_items": null,
            "grid_row": null,
            "max_height": null,
            "align_content": null,
            "visibility": null,
            "align_self": null,
            "height": null,
            "min_height": null,
            "padding": null,
            "grid_auto_rows": null,
            "grid_gap": null,
            "max_width": null,
            "order": null,
            "_view_module_version": "1.2.0",
            "grid_template_areas": null,
            "object_position": null,
            "object_fit": null,
            "grid_auto_columns": null,
            "margin": null,
            "display": null,
            "left": null
          }
        },
        "ac35a72369824ce38f0f570bae83d6f2": {
          "model_module": "@jupyter-widgets/controls",
          "model_name": "HBoxModel",
          "state": {
            "_view_name": "HBoxView",
            "_dom_classes": [],
            "_model_name": "HBoxModel",
            "_view_module": "@jupyter-widgets/controls",
            "_model_module_version": "1.5.0",
            "_view_count": null,
            "_view_module_version": "1.5.0",
            "box_style": "",
            "layout": "IPY_MODEL_467e1a482e3d47c49c61d5ae7a3b4d82",
            "_model_module": "@jupyter-widgets/controls",
            "children": [
              "IPY_MODEL_ed5ba8730e1f414a9e5485d405fb5343",
              "IPY_MODEL_62264a1ebc9a40209729906210acfed1"
            ]
          }
        },
        "467e1a482e3d47c49c61d5ae7a3b4d82": {
          "model_module": "@jupyter-widgets/base",
          "model_name": "LayoutModel",
          "state": {
            "_view_name": "LayoutView",
            "grid_template_rows": null,
            "right": null,
            "justify_content": null,
            "_view_module": "@jupyter-widgets/base",
            "overflow": null,
            "_model_module_version": "1.2.0",
            "_view_count": null,
            "flex_flow": null,
            "width": null,
            "min_width": null,
            "border": null,
            "align_items": null,
            "bottom": null,
            "_model_module": "@jupyter-widgets/base",
            "top": null,
            "grid_column": null,
            "overflow_y": null,
            "overflow_x": null,
            "grid_auto_flow": null,
            "grid_area": null,
            "grid_template_columns": null,
            "flex": null,
            "_model_name": "LayoutModel",
            "justify_items": null,
            "grid_row": null,
            "max_height": null,
            "align_content": null,
            "visibility": null,
            "align_self": null,
            "height": null,
            "min_height": null,
            "padding": null,
            "grid_auto_rows": null,
            "grid_gap": null,
            "max_width": null,
            "order": null,
            "_view_module_version": "1.2.0",
            "grid_template_areas": null,
            "object_position": null,
            "object_fit": null,
            "grid_auto_columns": null,
            "margin": null,
            "display": null,
            "left": null
          }
        },
        "ed5ba8730e1f414a9e5485d405fb5343": {
          "model_module": "@jupyter-widgets/controls",
          "model_name": "FloatProgressModel",
          "state": {
            "_view_name": "ProgressView",
            "style": "IPY_MODEL_e5a6124330f1449db1d4106ece6153ed",
            "_dom_classes": [],
            "description": "100%",
            "_model_name": "FloatProgressModel",
            "bar_style": "success",
            "max": 100,
            "_view_module": "@jupyter-widgets/controls",
            "_model_module_version": "1.5.0",
            "value": 100,
            "_view_count": null,
            "_view_module_version": "1.5.0",
            "orientation": "horizontal",
            "min": 0,
            "description_tooltip": null,
            "_model_module": "@jupyter-widgets/controls",
            "layout": "IPY_MODEL_635141bc859a4e7da9401e11ec287227"
          }
        },
        "62264a1ebc9a40209729906210acfed1": {
          "model_module": "@jupyter-widgets/controls",
          "model_name": "HTMLModel",
          "state": {
            "_view_name": "HTMLView",
            "style": "IPY_MODEL_61310d3e5ab7436495ffb1a35e1fe820",
            "_dom_classes": [],
            "description": "",
            "_model_name": "HTMLModel",
            "placeholder": "​",
            "_view_module": "@jupyter-widgets/controls",
            "_model_module_version": "1.5.0",
            "value": " 100/100 [00:07&lt;00:00, 13.79it/s]",
            "_view_count": null,
            "_view_module_version": "1.5.0",
            "description_tooltip": null,
            "_model_module": "@jupyter-widgets/controls",
            "layout": "IPY_MODEL_abd616c083314310b7b33e417db75cbc"
          }
        },
        "e5a6124330f1449db1d4106ece6153ed": {
          "model_module": "@jupyter-widgets/controls",
          "model_name": "ProgressStyleModel",
          "state": {
            "_view_name": "StyleView",
            "_model_name": "ProgressStyleModel",
            "description_width": "initial",
            "_view_module": "@jupyter-widgets/base",
            "_model_module_version": "1.5.0",
            "_view_count": null,
            "_view_module_version": "1.2.0",
            "bar_color": null,
            "_model_module": "@jupyter-widgets/controls"
          }
        },
        "635141bc859a4e7da9401e11ec287227": {
          "model_module": "@jupyter-widgets/base",
          "model_name": "LayoutModel",
          "state": {
            "_view_name": "LayoutView",
            "grid_template_rows": null,
            "right": null,
            "justify_content": null,
            "_view_module": "@jupyter-widgets/base",
            "overflow": null,
            "_model_module_version": "1.2.0",
            "_view_count": null,
            "flex_flow": null,
            "width": null,
            "min_width": null,
            "border": null,
            "align_items": null,
            "bottom": null,
            "_model_module": "@jupyter-widgets/base",
            "top": null,
            "grid_column": null,
            "overflow_y": null,
            "overflow_x": null,
            "grid_auto_flow": null,
            "grid_area": null,
            "grid_template_columns": null,
            "flex": null,
            "_model_name": "LayoutModel",
            "justify_items": null,
            "grid_row": null,
            "max_height": null,
            "align_content": null,
            "visibility": null,
            "align_self": null,
            "height": null,
            "min_height": null,
            "padding": null,
            "grid_auto_rows": null,
            "grid_gap": null,
            "max_width": null,
            "order": null,
            "_view_module_version": "1.2.0",
            "grid_template_areas": null,
            "object_position": null,
            "object_fit": null,
            "grid_auto_columns": null,
            "margin": null,
            "display": null,
            "left": null
          }
        },
        "61310d3e5ab7436495ffb1a35e1fe820": {
          "model_module": "@jupyter-widgets/controls",
          "model_name": "DescriptionStyleModel",
          "state": {
            "_view_name": "StyleView",
            "_model_name": "DescriptionStyleModel",
            "description_width": "",
            "_view_module": "@jupyter-widgets/base",
            "_model_module_version": "1.5.0",
            "_view_count": null,
            "_view_module_version": "1.2.0",
            "_model_module": "@jupyter-widgets/controls"
          }
        },
        "abd616c083314310b7b33e417db75cbc": {
          "model_module": "@jupyter-widgets/base",
          "model_name": "LayoutModel",
          "state": {
            "_view_name": "LayoutView",
            "grid_template_rows": null,
            "right": null,
            "justify_content": null,
            "_view_module": "@jupyter-widgets/base",
            "overflow": null,
            "_model_module_version": "1.2.0",
            "_view_count": null,
            "flex_flow": null,
            "width": null,
            "min_width": null,
            "border": null,
            "align_items": null,
            "bottom": null,
            "_model_module": "@jupyter-widgets/base",
            "top": null,
            "grid_column": null,
            "overflow_y": null,
            "overflow_x": null,
            "grid_auto_flow": null,
            "grid_area": null,
            "grid_template_columns": null,
            "flex": null,
            "_model_name": "LayoutModel",
            "justify_items": null,
            "grid_row": null,
            "max_height": null,
            "align_content": null,
            "visibility": null,
            "align_self": null,
            "height": null,
            "min_height": null,
            "padding": null,
            "grid_auto_rows": null,
            "grid_gap": null,
            "max_width": null,
            "order": null,
            "_view_module_version": "1.2.0",
            "grid_template_areas": null,
            "object_position": null,
            "object_fit": null,
            "grid_auto_columns": null,
            "margin": null,
            "display": null,
            "left": null
          }
        },
        "95a11a2eeb9e495eb88ea73a150ae77e": {
          "model_module": "@jupyter-widgets/controls",
          "model_name": "HBoxModel",
          "state": {
            "_view_name": "HBoxView",
            "_dom_classes": [],
            "_model_name": "HBoxModel",
            "_view_module": "@jupyter-widgets/controls",
            "_model_module_version": "1.5.0",
            "_view_count": null,
            "_view_module_version": "1.5.0",
            "box_style": "",
            "layout": "IPY_MODEL_4586eb3b871c4ce3b70b8453126db7bd",
            "_model_module": "@jupyter-widgets/controls",
            "children": [
              "IPY_MODEL_986d07114fab4ccc8a8755f91d4dee81",
              "IPY_MODEL_f6f2dcea4a574fd184e7ea42a495c43d"
            ]
          }
        },
        "4586eb3b871c4ce3b70b8453126db7bd": {
          "model_module": "@jupyter-widgets/base",
          "model_name": "LayoutModel",
          "state": {
            "_view_name": "LayoutView",
            "grid_template_rows": null,
            "right": null,
            "justify_content": null,
            "_view_module": "@jupyter-widgets/base",
            "overflow": null,
            "_model_module_version": "1.2.0",
            "_view_count": null,
            "flex_flow": null,
            "width": null,
            "min_width": null,
            "border": null,
            "align_items": null,
            "bottom": null,
            "_model_module": "@jupyter-widgets/base",
            "top": null,
            "grid_column": null,
            "overflow_y": null,
            "overflow_x": null,
            "grid_auto_flow": null,
            "grid_area": null,
            "grid_template_columns": null,
            "flex": null,
            "_model_name": "LayoutModel",
            "justify_items": null,
            "grid_row": null,
            "max_height": null,
            "align_content": null,
            "visibility": null,
            "align_self": null,
            "height": null,
            "min_height": null,
            "padding": null,
            "grid_auto_rows": null,
            "grid_gap": null,
            "max_width": null,
            "order": null,
            "_view_module_version": "1.2.0",
            "grid_template_areas": null,
            "object_position": null,
            "object_fit": null,
            "grid_auto_columns": null,
            "margin": null,
            "display": null,
            "left": null
          }
        },
        "986d07114fab4ccc8a8755f91d4dee81": {
          "model_module": "@jupyter-widgets/controls",
          "model_name": "FloatProgressModel",
          "state": {
            "_view_name": "ProgressView",
            "style": "IPY_MODEL_32049dfd7bcb47fdbc47dfeb84e31d9c",
            "_dom_classes": [],
            "description": "100%",
            "_model_name": "FloatProgressModel",
            "bar_style": "success",
            "max": 100,
            "_view_module": "@jupyter-widgets/controls",
            "_model_module_version": "1.5.0",
            "value": 100,
            "_view_count": null,
            "_view_module_version": "1.5.0",
            "orientation": "horizontal",
            "min": 0,
            "description_tooltip": null,
            "_model_module": "@jupyter-widgets/controls",
            "layout": "IPY_MODEL_19826273d0b849c1b787d2ab2185b52a"
          }
        },
        "f6f2dcea4a574fd184e7ea42a495c43d": {
          "model_module": "@jupyter-widgets/controls",
          "model_name": "HTMLModel",
          "state": {
            "_view_name": "HTMLView",
            "style": "IPY_MODEL_2146a717b4ae4c76b8c80f14bf5ccb81",
            "_dom_classes": [],
            "description": "",
            "_model_name": "HTMLModel",
            "placeholder": "​",
            "_view_module": "@jupyter-widgets/controls",
            "_model_module_version": "1.5.0",
            "value": " 100/100 [00:07&lt;00:00, 13.76it/s]",
            "_view_count": null,
            "_view_module_version": "1.5.0",
            "description_tooltip": null,
            "_model_module": "@jupyter-widgets/controls",
            "layout": "IPY_MODEL_956cdad9bb09498aa9fc2c8ba7f54783"
          }
        },
        "32049dfd7bcb47fdbc47dfeb84e31d9c": {
          "model_module": "@jupyter-widgets/controls",
          "model_name": "ProgressStyleModel",
          "state": {
            "_view_name": "StyleView",
            "_model_name": "ProgressStyleModel",
            "description_width": "initial",
            "_view_module": "@jupyter-widgets/base",
            "_model_module_version": "1.5.0",
            "_view_count": null,
            "_view_module_version": "1.2.0",
            "bar_color": null,
            "_model_module": "@jupyter-widgets/controls"
          }
        },
        "19826273d0b849c1b787d2ab2185b52a": {
          "model_module": "@jupyter-widgets/base",
          "model_name": "LayoutModel",
          "state": {
            "_view_name": "LayoutView",
            "grid_template_rows": null,
            "right": null,
            "justify_content": null,
            "_view_module": "@jupyter-widgets/base",
            "overflow": null,
            "_model_module_version": "1.2.0",
            "_view_count": null,
            "flex_flow": null,
            "width": null,
            "min_width": null,
            "border": null,
            "align_items": null,
            "bottom": null,
            "_model_module": "@jupyter-widgets/base",
            "top": null,
            "grid_column": null,
            "overflow_y": null,
            "overflow_x": null,
            "grid_auto_flow": null,
            "grid_area": null,
            "grid_template_columns": null,
            "flex": null,
            "_model_name": "LayoutModel",
            "justify_items": null,
            "grid_row": null,
            "max_height": null,
            "align_content": null,
            "visibility": null,
            "align_self": null,
            "height": null,
            "min_height": null,
            "padding": null,
            "grid_auto_rows": null,
            "grid_gap": null,
            "max_width": null,
            "order": null,
            "_view_module_version": "1.2.0",
            "grid_template_areas": null,
            "object_position": null,
            "object_fit": null,
            "grid_auto_columns": null,
            "margin": null,
            "display": null,
            "left": null
          }
        },
        "2146a717b4ae4c76b8c80f14bf5ccb81": {
          "model_module": "@jupyter-widgets/controls",
          "model_name": "DescriptionStyleModel",
          "state": {
            "_view_name": "StyleView",
            "_model_name": "DescriptionStyleModel",
            "description_width": "",
            "_view_module": "@jupyter-widgets/base",
            "_model_module_version": "1.5.0",
            "_view_count": null,
            "_view_module_version": "1.2.0",
            "_model_module": "@jupyter-widgets/controls"
          }
        },
        "956cdad9bb09498aa9fc2c8ba7f54783": {
          "model_module": "@jupyter-widgets/base",
          "model_name": "LayoutModel",
          "state": {
            "_view_name": "LayoutView",
            "grid_template_rows": null,
            "right": null,
            "justify_content": null,
            "_view_module": "@jupyter-widgets/base",
            "overflow": null,
            "_model_module_version": "1.2.0",
            "_view_count": null,
            "flex_flow": null,
            "width": null,
            "min_width": null,
            "border": null,
            "align_items": null,
            "bottom": null,
            "_model_module": "@jupyter-widgets/base",
            "top": null,
            "grid_column": null,
            "overflow_y": null,
            "overflow_x": null,
            "grid_auto_flow": null,
            "grid_area": null,
            "grid_template_columns": null,
            "flex": null,
            "_model_name": "LayoutModel",
            "justify_items": null,
            "grid_row": null,
            "max_height": null,
            "align_content": null,
            "visibility": null,
            "align_self": null,
            "height": null,
            "min_height": null,
            "padding": null,
            "grid_auto_rows": null,
            "grid_gap": null,
            "max_width": null,
            "order": null,
            "_view_module_version": "1.2.0",
            "grid_template_areas": null,
            "object_position": null,
            "object_fit": null,
            "grid_auto_columns": null,
            "margin": null,
            "display": null,
            "left": null
          }
        },
        "88603c25b5a84445b812abc830846a3f": {
          "model_module": "@jupyter-widgets/controls",
          "model_name": "HBoxModel",
          "state": {
            "_view_name": "HBoxView",
            "_dom_classes": [],
            "_model_name": "HBoxModel",
            "_view_module": "@jupyter-widgets/controls",
            "_model_module_version": "1.5.0",
            "_view_count": null,
            "_view_module_version": "1.5.0",
            "box_style": "",
            "layout": "IPY_MODEL_7c632fb828bb438585abf112e707d926",
            "_model_module": "@jupyter-widgets/controls",
            "children": [
              "IPY_MODEL_93b9ac7e153a4484bc0114387159594b",
              "IPY_MODEL_e84a264685f74796989ddd80ac7864fb"
            ]
          }
        },
        "7c632fb828bb438585abf112e707d926": {
          "model_module": "@jupyter-widgets/base",
          "model_name": "LayoutModel",
          "state": {
            "_view_name": "LayoutView",
            "grid_template_rows": null,
            "right": null,
            "justify_content": null,
            "_view_module": "@jupyter-widgets/base",
            "overflow": null,
            "_model_module_version": "1.2.0",
            "_view_count": null,
            "flex_flow": null,
            "width": null,
            "min_width": null,
            "border": null,
            "align_items": null,
            "bottom": null,
            "_model_module": "@jupyter-widgets/base",
            "top": null,
            "grid_column": null,
            "overflow_y": null,
            "overflow_x": null,
            "grid_auto_flow": null,
            "grid_area": null,
            "grid_template_columns": null,
            "flex": null,
            "_model_name": "LayoutModel",
            "justify_items": null,
            "grid_row": null,
            "max_height": null,
            "align_content": null,
            "visibility": null,
            "align_self": null,
            "height": null,
            "min_height": null,
            "padding": null,
            "grid_auto_rows": null,
            "grid_gap": null,
            "max_width": null,
            "order": null,
            "_view_module_version": "1.2.0",
            "grid_template_areas": null,
            "object_position": null,
            "object_fit": null,
            "grid_auto_columns": null,
            "margin": null,
            "display": null,
            "left": null
          }
        },
        "93b9ac7e153a4484bc0114387159594b": {
          "model_module": "@jupyter-widgets/controls",
          "model_name": "FloatProgressModel",
          "state": {
            "_view_name": "ProgressView",
            "style": "IPY_MODEL_2ef26d1cac064bbbac77fd7a77427750",
            "_dom_classes": [],
            "description": "100%",
            "_model_name": "FloatProgressModel",
            "bar_style": "success",
            "max": 100,
            "_view_module": "@jupyter-widgets/controls",
            "_model_module_version": "1.5.0",
            "value": 100,
            "_view_count": null,
            "_view_module_version": "1.5.0",
            "orientation": "horizontal",
            "min": 0,
            "description_tooltip": null,
            "_model_module": "@jupyter-widgets/controls",
            "layout": "IPY_MODEL_c6ca91a3180843059b299b01c46b4a47"
          }
        },
        "e84a264685f74796989ddd80ac7864fb": {
          "model_module": "@jupyter-widgets/controls",
          "model_name": "HTMLModel",
          "state": {
            "_view_name": "HTMLView",
            "style": "IPY_MODEL_4a56742aca4b40e195c9dedff75282d5",
            "_dom_classes": [],
            "description": "",
            "_model_name": "HTMLModel",
            "placeholder": "​",
            "_view_module": "@jupyter-widgets/controls",
            "_model_module_version": "1.5.0",
            "value": " 100/100 [00:45&lt;00:00,  2.19it/s]",
            "_view_count": null,
            "_view_module_version": "1.5.0",
            "description_tooltip": null,
            "_model_module": "@jupyter-widgets/controls",
            "layout": "IPY_MODEL_cfa41a6dc8e6454cb18a68f28635f948"
          }
        },
        "2ef26d1cac064bbbac77fd7a77427750": {
          "model_module": "@jupyter-widgets/controls",
          "model_name": "ProgressStyleModel",
          "state": {
            "_view_name": "StyleView",
            "_model_name": "ProgressStyleModel",
            "description_width": "initial",
            "_view_module": "@jupyter-widgets/base",
            "_model_module_version": "1.5.0",
            "_view_count": null,
            "_view_module_version": "1.2.0",
            "bar_color": null,
            "_model_module": "@jupyter-widgets/controls"
          }
        },
        "c6ca91a3180843059b299b01c46b4a47": {
          "model_module": "@jupyter-widgets/base",
          "model_name": "LayoutModel",
          "state": {
            "_view_name": "LayoutView",
            "grid_template_rows": null,
            "right": null,
            "justify_content": null,
            "_view_module": "@jupyter-widgets/base",
            "overflow": null,
            "_model_module_version": "1.2.0",
            "_view_count": null,
            "flex_flow": null,
            "width": null,
            "min_width": null,
            "border": null,
            "align_items": null,
            "bottom": null,
            "_model_module": "@jupyter-widgets/base",
            "top": null,
            "grid_column": null,
            "overflow_y": null,
            "overflow_x": null,
            "grid_auto_flow": null,
            "grid_area": null,
            "grid_template_columns": null,
            "flex": null,
            "_model_name": "LayoutModel",
            "justify_items": null,
            "grid_row": null,
            "max_height": null,
            "align_content": null,
            "visibility": null,
            "align_self": null,
            "height": null,
            "min_height": null,
            "padding": null,
            "grid_auto_rows": null,
            "grid_gap": null,
            "max_width": null,
            "order": null,
            "_view_module_version": "1.2.0",
            "grid_template_areas": null,
            "object_position": null,
            "object_fit": null,
            "grid_auto_columns": null,
            "margin": null,
            "display": null,
            "left": null
          }
        },
        "4a56742aca4b40e195c9dedff75282d5": {
          "model_module": "@jupyter-widgets/controls",
          "model_name": "DescriptionStyleModel",
          "state": {
            "_view_name": "StyleView",
            "_model_name": "DescriptionStyleModel",
            "description_width": "",
            "_view_module": "@jupyter-widgets/base",
            "_model_module_version": "1.5.0",
            "_view_count": null,
            "_view_module_version": "1.2.0",
            "_model_module": "@jupyter-widgets/controls"
          }
        },
        "cfa41a6dc8e6454cb18a68f28635f948": {
          "model_module": "@jupyter-widgets/base",
          "model_name": "LayoutModel",
          "state": {
            "_view_name": "LayoutView",
            "grid_template_rows": null,
            "right": null,
            "justify_content": null,
            "_view_module": "@jupyter-widgets/base",
            "overflow": null,
            "_model_module_version": "1.2.0",
            "_view_count": null,
            "flex_flow": null,
            "width": null,
            "min_width": null,
            "border": null,
            "align_items": null,
            "bottom": null,
            "_model_module": "@jupyter-widgets/base",
            "top": null,
            "grid_column": null,
            "overflow_y": null,
            "overflow_x": null,
            "grid_auto_flow": null,
            "grid_area": null,
            "grid_template_columns": null,
            "flex": null,
            "_model_name": "LayoutModel",
            "justify_items": null,
            "grid_row": null,
            "max_height": null,
            "align_content": null,
            "visibility": null,
            "align_self": null,
            "height": null,
            "min_height": null,
            "padding": null,
            "grid_auto_rows": null,
            "grid_gap": null,
            "max_width": null,
            "order": null,
            "_view_module_version": "1.2.0",
            "grid_template_areas": null,
            "object_position": null,
            "object_fit": null,
            "grid_auto_columns": null,
            "margin": null,
            "display": null,
            "left": null
          }
        }
      }
    }
  },
  "cells": [
    {
      "cell_type": "code",
      "metadata": {
        "id": "shz3R6dh1KUk",
        "colab_type": "code",
        "colab": {}
      },
      "source": [
        "import numpy as np\n",
        "import torch\n",
        "from torch import nn\n",
        "from tqdm import tqdm_notebook\n",
        "import matplotlib.pyplot as plt\n",
        "%matplotlib inline"
      ],
      "execution_count": 101,
      "outputs": []
    },
    {
      "cell_type": "code",
      "metadata": {
        "id": "MbrFjKON1KUq",
        "colab_type": "code",
        "colab": {}
      },
      "source": [
        "def U(X, means, sigmas, p):\n",
        "    exp = torch.exp(-torch.cat([torch.pow(X - means[i], 2) / (2 * sigmas[i] ** 2) for i in range(len(means))], dim=1))\n",
        "    coefs = p / (np.sqrt(2 * np.pi) * sigmas)\n",
        "    return -torch.log(torch.matmul(exp, coefs))"
      ],
      "execution_count": 79,
      "outputs": []
    },
    {
      "cell_type": "code",
      "metadata": {
        "id": "spEtmOiG1KUx",
        "colab_type": "code",
        "colab": {}
      },
      "source": [
        "p = torch.tensor([0.5, 0.5])\n",
        "sigmas = torch.tensor([1., 1.])\n",
        "means = torch.tensor([2, -2])"
      ],
      "execution_count": 84,
      "outputs": []
    },
    {
      "cell_type": "code",
      "metadata": {
        "id": "4ajdHzms1KU4",
        "colab_type": "code",
        "colab": {}
      },
      "source": [
        "def mixture_sampler(means=[0], sigmas=[1], p=[1], size=1):\n",
        "    sample = []\n",
        "    for _ in range(size):\n",
        "        i = np.random.choice(np.arange(len(p)), p=p)\n",
        "        sample.append(np.random.normal(loc=means[i], scale=sigmas[i], size=1))\n",
        "    return np.vstack(sample)"
      ],
      "execution_count": 85,
      "outputs": []
    },
    {
      "cell_type": "code",
      "metadata": {
        "id": "ure2s-GZ1KU9",
        "colab_type": "code",
        "colab": {}
      },
      "source": [
        "X = torch.tensor(mixture_sampler(means, sigmas, p.numpy(), 10000), dtype=torch.float32, requires_grad=True)\n",
        "f_X = torch.pow(X, 3).squeeze()"
      ],
      "execution_count": 86,
      "outputs": []
    },
    {
      "cell_type": "code",
      "metadata": {
        "id": "TvXR_0AX1KU_",
        "colab_type": "code",
        "colab": {}
      },
      "source": [
        "def b(X, U_deriv, deg):\n",
        "    poly1 = torch.vander(X.squeeze(), N=deg + 1)\n",
        "    poly1 = poly1[:, :-1]\n",
        "    second_term = torch.mul(poly1, U_deriv.reshape(-1, 1))\n",
        "    first_term = torch.vander(X.squeeze(), N=deg)\n",
        "    coef = torch.arange(deg, 0, -1, dtype=torch.float32).reshape(1, -1)\n",
        "    first_term = torch.mul(first_term, coef)\n",
        "    return first_term - second_term"
      ],
      "execution_count": 87,
      "outputs": []
    },
    {
      "cell_type": "code",
      "metadata": {
        "id": "GZC_yJk5XAwd",
        "colab_type": "code",
        "colab": {}
      },
      "source": [
        "def Learn(X, means, sigmas, p, deg=5):\n",
        "  U_X = U(X, means, sigmas, p)\n",
        "  X.grad = None\n",
        "  U_X.sum().backward(retain_graph=True)\n",
        "  U_X_prime = X.grad.squeeze()\n",
        "\n",
        "  beshki = b(X, U_X_prime, deg) # deg = 5\n",
        "\n",
        "  b_norm = beshki - torch.mean(beshki, dim=0)\n",
        "  f = X**3\n",
        "  f_norm = f - torch.mean(f)\n",
        "  V = b_norm[:, :, None] @ b_norm[:, None, :]\n",
        "  V /= V.shape[0] - 1\n",
        "  V = V.sum(dim=0)\n",
        "  b_norm *= f_norm.reshape(-1, 1)\n",
        "  C = b_norm.T\n",
        "  C /= C.shape[1] - 1\n",
        "  C = C.sum(dim=1).reshape(-1, 1)\n",
        "  V_inverse = torch.inverse(V)\n",
        "  theta = V_inverse @ C\n",
        "\n",
        "  g = beshki @ theta\n",
        "  g_norm = g - torch.mean(g)\n",
        "  l = f_norm - g_norm\n",
        "  vr = (f - g).mean().item()\n",
        "\n",
        "  return theta, l, vr"
      ],
      "execution_count": 89,
      "outputs": []
    },
    {
      "cell_type": "code",
      "metadata": {
        "id": "L6MGJ5Z0XTrZ",
        "colab_type": "code",
        "colab": {}
      },
      "source": [
        "theta, l, _ = Learn(X, means, sigmas, p)"
      ],
      "execution_count": 90,
      "outputs": []
    },
    {
      "cell_type": "code",
      "metadata": {
        "id": "6gplDCKKYygL",
        "colab_type": "code",
        "colab": {
          "base_uri": "https://localhost:8080/",
          "height": 34
        },
        "outputId": "7f2ef794-bf45-4c73-9bb6-f748dbbc25b2"
      },
      "source": [
        "print(torch.sum(l**2) / (l.shape[0] - 1))"
      ],
      "execution_count": 91,
      "outputs": [
        {
          "output_type": "stream",
          "text": [
            "tensor(220.5618, grad_fn=<DivBackward0>)\n"
          ],
          "name": "stdout"
        }
      ]
    },
    {
      "cell_type": "code",
      "metadata": {
        "id": "ctAx1gOxTrgu",
        "colab_type": "code",
        "colab": {}
      },
      "source": [
        "def Pi_f(means, sigmas, p):\n",
        "    return (p * (torch.pow(means, 3) + 3 * means * torch.pow(sigmas, 2))).sum().item()"
      ],
      "execution_count": 92,
      "outputs": []
    },
    {
      "cell_type": "code",
      "metadata": {
        "id": "sQG1gDVC2YcV",
        "colab_type": "code",
        "colab": {}
      },
      "source": [
        "x = torch.tensor(np.linspace(-5, 5, 10000).reshape(-1, 1), dtype=torch.float32, requires_grad=True)\n",
        "\n",
        "U_X = U(x, means, sigmas, p)\n",
        "x.grad = None\n",
        "U_X.sum().backward(retain_graph=True)\n",
        "U_X_prime = x.grad.squeeze()\n",
        "beshki = b(x, U_X_prime, 5) # deg = 5\n",
        "\n",
        "g_x = beshki @ theta\n",
        "g_x_numpy = g_x.detach().numpy()\n",
        "x_numpy = x.detach().numpy()\n",
        "pi_f = Pi_f(means, sigmas, p)"
      ],
      "execution_count": 11,
      "outputs": []
    },
    {
      "cell_type": "code",
      "metadata": {
        "id": "6-aCa5l-OG9E",
        "colab_type": "code",
        "colab": {
          "base_uri": "https://localhost:8080/",
          "height": 265
        },
        "outputId": "08b86706-ab8a-4bfe-e49e-e1efbb1cbbc6"
      },
      "source": [
        "plt.plot(x_numpy, g_x_numpy)\n",
        "f_numpy = x_numpy ** 3\n",
        "plt.plot(x_numpy, f_numpy - pi_f);"
      ],
      "execution_count": 12,
      "outputs": [
        {
          "output_type": "display_data",
          "data": {
            "image/png": "[encoded data removed]",
            "text/plain": [
              "<Figure size 432x288 with 1 Axes>"
            ]
          },
          "metadata": {
            "tags": [],
            "needs_background": "light"
          }
        }
      ]
    },
    {
      "cell_type": "code",
      "metadata": {
        "id": "vieIN5lDTz6n",
        "colab_type": "code",
        "colab": {}
      },
      "source": [
        "estimates = []\n",
        "vr_estimates = []\n",
        "np.random.seed(42)\n",
        "\n",
        "for i in range(100):\n",
        "  p = torch.tensor([0.5, 0.5])\n",
        "  sigmas = torch.tensor([2., 1.])\n",
        "  means = torch.tensor([-1., 2.])\n",
        "  X = torch.tensor(mixture_sampler(means, sigmas, p, 10000), dtype=torch.float32, requires_grad=True)\n",
        "\n",
        "  U_X = U(X, means, sigmas, p)\n",
        "  X.grad = None\n",
        "  U_X.sum().backward(retain_graph=True)\n",
        "  U_X_prime = X.grad.squeeze()\n",
        "\n",
        "  f_X = torch.pow(X, 3).squeeze()\n",
        "  estimates.append(f_X.mean().item())\n",
        "\n",
        "  beshki = b(X, U_X_prime, 5) # deg = 5\n",
        "  g = beshki @ theta\n",
        "  vr = (f_X - g).mean().item()\n",
        "\n",
        "  vr_estimates.append(vr)"
      ],
      "execution_count": 13,
      "outputs": []
    },
    {
      "cell_type": "code",
      "metadata": {
        "id": "q5bidJp1avMM",
        "colab_type": "code",
        "colab": {
          "base_uri": "https://localhost:8080/",
          "height": 517
        },
        "outputId": "c2f70578-0841-4a10-8c9e-cc8110cd3850"
      },
      "source": [
        "plt.figure(figsize=(20, 10))\n",
        "plt.boxplot([estimates, vr_estimates])\n",
        "plt.axhline(y=pi_f, color='r', linestyle='--')\n",
        "plt.grid(True)"
      ],
      "execution_count": 14,
      "outputs": [
        {
          "output_type": "display_data",
          "data": {
            "image/png": "[encoded data removed]",
            "text/plain": [
              "<Figure size 1440x720 with 1 Axes>"
            ]
          },
          "metadata": {
            "tags": [],
            "needs_background": "light"
          }
        }
      ]
    },
    {
      "cell_type": "code",
      "metadata": {
        "id": "M-0ugN5oQsRm",
        "colab_type": "code",
        "colab": {
          "base_uri": "https://localhost:8080/",
          "height": 102
        },
        "outputId": "65a472df-8f88-436d-e320-880527fbb41b"
      },
      "source": [
        "sample_theta = []\n",
        "for _ in range(5):\n",
        "    sample_theta.append(np.random.normal(loc=0.5, scale=2.0, size=1))\n",
        "rand_theta = torch.tensor(np.vstack(sample_theta), dtype=torch.float32)\n",
        "rand_theta -= torch.ones(rand_theta.shape[0]).reshape(-1, 1)\n",
        "print(rand_theta)"
      ],
      "execution_count": 93,
      "outputs": [
        {
          "output_type": "stream",
          "text": [
            "tensor([[-0.4934],\n",
            "        [ 0.1340],\n",
            "        [ 1.7951],\n",
            "        [ 0.5538],\n",
            "        [-0.6356]])\n"
          ],
          "name": "stdout"
        }
      ]
    },
    {
      "cell_type": "code",
      "metadata": {
        "id": "jfx13G68a3l7",
        "colab_type": "code",
        "colab": {}
      },
      "source": [
        "estimates = []\n",
        "np.random.seed(42)\n",
        "\n",
        "for i in range(100):\n",
        "  p = torch.tensor([0.5, 0.5])\n",
        "  sigmas = torch.tensor([2., 1.])\n",
        "  means = torch.tensor([-1., 2.])\n",
        "  X = torch.tensor(mixture_sampler(means, sigmas, p, 10000), dtype=torch.float32, requires_grad=True)\n",
        "\n",
        "  U_X = U(X, means, sigmas, p)\n",
        "  X.grad = None\n",
        "  U_X.sum().backward(retain_graph=True)\n",
        "  U_X_prime = X.grad.squeeze()\n",
        "\n",
        "  beshki = b(X, U_X_prime, 5)\n",
        "  g = beshki @ rand_theta\n",
        "  estimates.append(g.mean().item())"
      ],
      "execution_count": 94,
      "outputs": []
    },
    {
      "cell_type": "code",
      "metadata": {
        "id": "uxLlzybXmLn2",
        "colab_type": "code",
        "colab": {
          "base_uri": "https://localhost:8080/",
          "height": 521
        },
        "outputId": "214ee5d4-a772-483b-f7df-8a5379f07bfb"
      },
      "source": [
        "plt.figure(figsize=(20, 10))\n",
        "plt.boxplot([estimates])\n",
        "plt.axhline(y=0, color='r', linestyle='--')\n",
        "plt.grid(True)"
      ],
      "execution_count": 95,
      "outputs": [
        {
          "output_type": "display_data",
          "data": {
            "image/png": "[encoded data removed]",
            "text/plain": [
              "<Figure size 1440x720 with 1 Axes>"
            ]
          },
          "metadata": {
            "tags": [],
            "needs_background": "light"
          }
        }
      ]
    },
    {
      "cell_type": "code",
      "metadata": {
        "id": "UjY7tzRTmsIX",
        "colab_type": "code",
        "colab": {
          "base_uri": "https://localhost:8080/",
          "height": 403,
          "referenced_widgets": [
            "08a29c0e5f47453092e6175f5d3bb77e",
            "609b47e546644b5abd352c7005150936",
            "522aaeb6db0a4304b485c8ed48ed69d6",
            "64a7c4b13dc44d4b8393752f837d52f2",
            "bb90d5660b244a49b63654afd6afa78d",
            "d49243e2818944b5971688b3ba97ff03",
            "a3db1fdc48314804b74dde5c30e1adf5",
            "c8fe9403072d4650b9bda70bedc330b4",
            "5e574ee576364e0f930e7daaeaeabb56",
            "d058f9e753b343cd8b8e83cb996dad44",
            "13e51b96a701488992ae904af86a092a",
            "2434953d834d41efb9878a5ba3608e39",
            "d32edd0eeafa45fca101b4b1f540d7ed",
            "23bcd669c4f94672802a5c6afe23d2a3",
            "3d3f26ab3f1543e3b57cf02d5b4dfaec",
            "c95a9f1e0c494c1b9e9af918c9f09fb4",
            "ac35a72369824ce38f0f570bae83d6f2",
            "467e1a482e3d47c49c61d5ae7a3b4d82",
            "ed5ba8730e1f414a9e5485d405fb5343",
            "62264a1ebc9a40209729906210acfed1",
            "e5a6124330f1449db1d4106ece6153ed",
            "635141bc859a4e7da9401e11ec287227",
            "61310d3e5ab7436495ffb1a35e1fe820",
            "abd616c083314310b7b33e417db75cbc",
            "95a11a2eeb9e495eb88ea73a150ae77e",
            "4586eb3b871c4ce3b70b8453126db7bd",
            "986d07114fab4ccc8a8755f91d4dee81",
            "f6f2dcea4a574fd184e7ea42a495c43d",
            "32049dfd7bcb47fdbc47dfeb84e31d9c",
            "19826273d0b849c1b787d2ab2185b52a",
            "2146a717b4ae4c76b8c80f14bf5ccb81",
            "956cdad9bb09498aa9fc2c8ba7f54783"
          ]
        },
        "outputId": "ae9d0602-871a-4ebb-bdd5-990e952ee55b"
      },
      "source": [
        "results = []\n",
        "pi_fs = []\n",
        "a = [1, 2, 3, 4]\n",
        "fix_deg = 5\n",
        "\n",
        "for mean in a:\n",
        "  estimates = []\n",
        "  vr_estimates = []\n",
        "  p = torch.tensor([0.5, 0.5])\n",
        "  sigmas = torch.tensor([1., 1.])\n",
        "  means = torch.tensor([mean, -mean])\n",
        "  X = torch.tensor(mixture_sampler(means, sigmas, p.numpy(), 1000), dtype=torch.float32, requires_grad=True)\n",
        "  f_X = torch.pow(X, 3).squeeze()\n",
        "  theta, l, _ = Learn(X, means, sigmas, p, fix_deg)\n",
        "  pi_fs.append(Pi_f(means, sigmas, p))\n",
        "  for i in tqdm_notebook(range(100)):\n",
        "    X = torch.tensor(mixture_sampler(means, sigmas, p.numpy(), 1000), dtype=torch.float32, requires_grad=True)\n",
        "\n",
        "    U_X = U(X, means, sigmas, p)\n",
        "    X.grad = None\n",
        "    U_X.sum().backward(retain_graph=True)\n",
        "    U_X_prime = X.grad.squeeze()\n",
        "\n",
        "    f_X = torch.pow(X, 3).squeeze()\n",
        "    estimates.append(f_X.mean().item())\n",
        "\n",
        "    beshki = b(X, U_X_prime, fix_deg) # deg = 5\n",
        "    g = beshki @ theta\n",
        "    vr = (f_X - g).mean().item()\n",
        "\n",
        "    vr_estimates.append(vr)\n",
        "  print(np.var(estimates))\n",
        "  print(np.var(vr_estimates))\n",
        "  results.append(vr_estimates)"
      ],
      "execution_count": 110,
      "outputs": [
        {
          "output_type": "stream",
          "text": [
            "/usr/local/lib/python3.6/dist-packages/ipykernel_launcher.py:17: TqdmDeprecationWarning: This function will be removed in tqdm==5.0.0\n",
            "Please use `tqdm.notebook.tqdm` instead of `tqdm.tqdm_notebook`\n"
          ],
          "name": "stderr"
        },
        {
          "output_type": "display_data",
          "data": {
            "application/vnd.jupyter.widget-view+json": {
              "model_id": "08a29c0e5f47453092e6175f5d3bb77e",
              "version_minor": 0,
              "version_major": 2
            },
            "text/plain": [
              "HBox(children=(FloatProgress(value=0.0), HTML(value='')))"
            ]
          },
          "metadata": {
            "tags": []
          }
        },
        {
          "output_type": "stream",
          "text": [
            "\n",
            "0.07403937761384966\n",
            "0.030136169671033657\n"
          ],
          "name": "stdout"
        },
        {
          "output_type": "display_data",
          "data": {
            "application/vnd.jupyter.widget-view+json": {
              "model_id": "5e574ee576364e0f930e7daaeaeabb56",
              "version_minor": 0,
              "version_major": 2
            },
            "text/plain": [
              "HBox(children=(FloatProgress(value=0.0), HTML(value='')))"
            ]
          },
          "metadata": {
            "tags": []
          }
        },
        {
          "output_type": "stream",
          "text": [
            "\n",
            "0.4802396061605582\n",
            "0.21032654309499524\n"
          ],
          "name": "stdout"
        },
        {
          "output_type": "display_data",
          "data": {
            "application/vnd.jupyter.widget-view+json": {
              "model_id": "ac35a72369824ce38f0f570bae83d6f2",
              "version_minor": 0,
              "version_major": 2
            },
            "text/plain": [
              "HBox(children=(FloatProgress(value=0.0), HTML(value='')))"
            ]
          },
          "metadata": {
            "tags": []
          }
        },
        {
          "output_type": "stream",
          "text": [
            "\n",
            "2.2172379981365196\n",
            "1.2337156492976409\n"
          ],
          "name": "stdout"
        },
        {
          "output_type": "display_data",
          "data": {
            "application/vnd.jupyter.widget-view+json": {
              "model_id": "95a11a2eeb9e495eb88ea73a150ae77e",
              "version_minor": 0,
              "version_major": 2
            },
            "text/plain": [
              "HBox(children=(FloatProgress(value=0.0), HTML(value='')))"
            ]
          },
          "metadata": {
            "tags": []
          }
        },
        {
          "output_type": "stream",
          "text": [
            "\n",
            "7.941396904803202\n",
            "5.2812169997698835\n"
          ],
          "name": "stdout"
        }
      ]
    },
    {
      "cell_type": "code",
      "metadata": {
        "id": "JUPZj9D02Vry",
        "colab_type": "code",
        "colab": {
          "base_uri": "https://localhost:8080/",
          "height": 171,
          "referenced_widgets": [
            "88603c25b5a84445b812abc830846a3f",
            "7c632fb828bb438585abf112e707d926",
            "93b9ac7e153a4484bc0114387159594b",
            "e84a264685f74796989ddd80ac7864fb",
            "2ef26d1cac064bbbac77fd7a77427750",
            "c6ca91a3180843059b299b01c46b4a47",
            "4a56742aca4b40e195c9dedff75282d5",
            "cfa41a6dc8e6454cb18a68f28635f948"
          ]
        },
        "outputId": "fa54682f-eede-4caf-d62e-c4aa52fd126d"
      },
      "source": [
        "samples = np.load(\"sample3.npy\")\n",
        "estimates = []\n",
        "vr_estimates = []\n",
        "p = torch.tensor([0.5, 0.5])\n",
        "sigmas = torch.tensor([1., 1.])\n",
        "means = torch.tensor([3, -3])\n",
        "X = torch.tensor(mixture_sampler(means, sigmas, p.numpy(), 1000), dtype=torch.float32, requires_grad=True)\n",
        "f_X = torch.pow(X, 3).squeeze()\n",
        "theta, l, _ = Learn(X, means, sigmas, p, fix_deg)\n",
        "pi_fs.append(Pi_f(means, sigmas, p))\n",
        "\n",
        "for i in tqdm_notebook(range(100)):\n",
        "  X = torch.tensor(samples[i], requires_grad=True)\n",
        "\n",
        "  U_X = U(X, means, sigmas, p)\n",
        "  X.grad = None\n",
        "  U_X.sum().backward(retain_graph=True)\n",
        "  U_X_prime = X.grad.squeeze()\n",
        "\n",
        "  f_X = torch.pow(X, 3).squeeze()\n",
        "  estimates.append(f_X.mean().item())\n",
        "\n",
        "  beshki = b(X, U_X_prime, fix_deg) # deg = 5\n",
        "  g = beshki @ theta\n",
        "  vr = (f_X - g).mean().item()\n",
        "\n",
        "  vr_estimates.append(vr)\n",
        "\n",
        "print(np.var(estimates))\n",
        "print(np.var(vr_estimates))\n",
        "results.append(vr_estimates)"
      ],
      "execution_count": null,
      "outputs": [
        {
          "output_type": "stream",
          "text": [
            "/usr/local/lib/python3.6/dist-packages/ipykernel_launcher.py:12: TqdmDeprecationWarning: This function will be removed in tqdm==5.0.0\n",
            "Please use `tqdm.notebook.tqdm` instead of `tqdm.tqdm_notebook`\n",
            "  if sys.path[0] == '':\n"
          ],
          "name": "stderr"
        },
        {
          "output_type": "display_data",
          "data": {
            "application/vnd.jupyter.widget-view+json": {
              "model_id": "88603c25b5a84445b812abc830846a3f",
              "version_minor": 0,
              "version_major": 2
            },
            "text/plain": [
              "HBox(children=(FloatProgress(value=0.0), HTML(value='')))"
            ]
          },
          "metadata": {
            "tags": []
          }
        },
        {
          "output_type": "stream",
          "text": [
            "\n",
            "2.271346585908948\n",
            "1.2139774943268828\n"
          ],
          "name": "stdout"
        }
      ]
    },
    {
      "cell_type": "code",
      "metadata": {
        "id": "5qf2V0jn_KvV",
        "colab_type": "code",
        "colab": {
          "base_uri": "https://localhost:8080/",
          "height": 122
        },
        "outputId": "4b25e905-03b9-4975-a452-4d7a5593926f"
      },
      "source": [
        "from google.colab import drive\n",
        "drive.mount('/content/drive')"
      ],
      "execution_count": 26,
      "outputs": [
        {
          "output_type": "stream",
          "text": [
            "Go to this URL in a browser: https://accounts.google.com/o/oauth2/auth?client_id=947318989803-6bn6qk8qdgf4n4g3pfee6491hc0brc4i.apps.googleusercontent.com&redirect_uri=urn%3aietf%3awg%3aoauth%3a2.0%3aoob&scope=email%20https%3a%2f%2fwww.googleapis.com%2fauth%2fdocs.test%20https%3a%2f%2fwww.googleapis.com%2fauth%2fdrive%20https%3a%2f%2fwww.googleapis.com%2fauth%2fdrive.photos.readonly%20https%3a%2f%2fwww.googleapis.com%2fauth%2fpeopleapi.readonly&response_type=code\n",
            "\n",
            "Enter your authorization code:\n",
            "··········\n",
            "Mounted at /content/drive\n"
          ],
          "name": "stdout"
        }
      ]
    },
    {
      "cell_type": "code",
      "metadata": {
        "id": "1qQPAgFc8chD",
        "colab_type": "code",
        "colab": {
          "base_uri": "https://localhost:8080/",
          "height": 1000
        },
        "outputId": "aadf9d11-e774-4b44-dd7a-5fbb89dc0043"
      },
      "source": [
        "nn_vr = []\n",
        "vanilla = []\n",
        "nn_vr.append(np.load(\"nn_vr1.npy\"))\n",
        "vanilla.append(np.load(\"vanilla1.npy\"))\n",
        "nn_vr.append(np.load(\"nn_vr2.npy\"))\n",
        "vanilla.append(np.load(\"vanilla2.npy\"))\n",
        "nn_vr.append(np.load(\"nn_vr3.npy\"))\n",
        "vanilla.append(np.load(\"vanilla3.npy\"))\n",
        "\n",
        "fig, axs = plt.subplots(3, 1, figsize=(20, 30))\n",
        "for i, mean in enumerate(a):\n",
        "  axs[i].boxplot([vanilla[i], nn_vr[i], results[i]], labels=[\"vanilla\", \"nn\", \"poly\"])\n",
        "  axs[i].axhline(y=pi_fs[i], color='r', linestyle='--')\n",
        "  axs[i].set_title(\"a = {:d}\".format(mean))"
      ],
      "execution_count": 74,
      "outputs": [
        {
          "output_type": "display_data",
          "data": {
            "image/png": "[encoded data removed]",
            "text/plain": [
              "<Figure size 1440x2160 with 3 Axes>"
            ]
          },
          "metadata": {
            "tags": [],
            "needs_background": "light"
          }
        }
      ]
    },
    {
      "cell_type": "code",
      "metadata": {
        "id": "jTZKqpS69-od",
        "colab_type": "code",
        "colab": {}
      },
      "source": [
        ""
      ],
      "execution_count": null,
      "outputs": []
    }
  ]
}